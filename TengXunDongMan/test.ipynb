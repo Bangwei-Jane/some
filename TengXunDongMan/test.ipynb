{
 "cells": [
  {
   "cell_type": "code",
   "execution_count": 3,
   "source": [
    "import pandas as pd "
   ],
   "outputs": [],
   "metadata": {}
  },
  {
   "cell_type": "code",
   "execution_count": 6,
   "source": [
    "data = pd.read_csv('./tx.csv',encoding='gbk')\r\n",
    "data.head()"
   ],
   "outputs": [
    {
     "output_type": "execute_result",
     "data": {
      "text/plain": [
       "     name        author types popularity  Unnamed: 4\n",
       "0  中国惊奇先生           权迎升    灵异     238.4亿         NaN\n",
       "1     19天    幕星社 x old先    脑洞     180.5亿         NaN\n",
       "2   请与我同眠            鱼刺    职场      15.9亿         NaN\n",
       "3    入幕之臣       白日萌研究中心    古风      15.9亿         NaN\n",
       "4    万人之上  博易动漫 x 博易小助手    系统       5.4亿         NaN"
      ],
      "text/html": [
       "<div>\n",
       "<style scoped>\n",
       "    .dataframe tbody tr th:only-of-type {\n",
       "        vertical-align: middle;\n",
       "    }\n",
       "\n",
       "    .dataframe tbody tr th {\n",
       "        vertical-align: top;\n",
       "    }\n",
       "\n",
       "    .dataframe thead th {\n",
       "        text-align: right;\n",
       "    }\n",
       "</style>\n",
       "<table border=\"1\" class=\"dataframe\">\n",
       "  <thead>\n",
       "    <tr style=\"text-align: right;\">\n",
       "      <th></th>\n",
       "      <th>name</th>\n",
       "      <th>author</th>\n",
       "      <th>types</th>\n",
       "      <th>popularity</th>\n",
       "      <th>Unnamed: 4</th>\n",
       "    </tr>\n",
       "  </thead>\n",
       "  <tbody>\n",
       "    <tr>\n",
       "      <th>0</th>\n",
       "      <td>中国惊奇先生</td>\n",
       "      <td>权迎升</td>\n",
       "      <td>灵异</td>\n",
       "      <td>238.4亿</td>\n",
       "      <td>NaN</td>\n",
       "    </tr>\n",
       "    <tr>\n",
       "      <th>1</th>\n",
       "      <td>19天</td>\n",
       "      <td>幕星社 x old先</td>\n",
       "      <td>脑洞</td>\n",
       "      <td>180.5亿</td>\n",
       "      <td>NaN</td>\n",
       "    </tr>\n",
       "    <tr>\n",
       "      <th>2</th>\n",
       "      <td>请与我同眠</td>\n",
       "      <td>鱼刺</td>\n",
       "      <td>职场</td>\n",
       "      <td>15.9亿</td>\n",
       "      <td>NaN</td>\n",
       "    </tr>\n",
       "    <tr>\n",
       "      <th>3</th>\n",
       "      <td>入幕之臣</td>\n",
       "      <td>白日萌研究中心</td>\n",
       "      <td>古风</td>\n",
       "      <td>15.9亿</td>\n",
       "      <td>NaN</td>\n",
       "    </tr>\n",
       "    <tr>\n",
       "      <th>4</th>\n",
       "      <td>万人之上</td>\n",
       "      <td>博易动漫 x 博易小助手</td>\n",
       "      <td>系统</td>\n",
       "      <td>5.4亿</td>\n",
       "      <td>NaN</td>\n",
       "    </tr>\n",
       "  </tbody>\n",
       "</table>\n",
       "</div>"
      ]
     },
     "metadata": {},
     "execution_count": 6
    }
   ],
   "metadata": {}
  },
  {
   "cell_type": "code",
   "execution_count": 7,
   "source": [
    "data['types'].value_counts()"
   ],
   "outputs": [
    {
     "output_type": "execute_result",
     "data": {
      "text/plain": [
       "古风     975\n",
       "战斗     631\n",
       "总裁     403\n",
       "职场     393\n",
       "脑洞     327\n",
       "穿越     320\n",
       "大女主    303\n",
       "推理     280\n",
       "灵异     195\n",
       "后宫     171\n",
       "复仇     167\n",
       "重生     166\n",
       "逆袭     143\n",
       "妖怪     109\n",
       "系统     109\n",
       "都市      82\n",
       "搞笑      79\n",
       "娱乐圈     76\n",
       "神仙      61\n",
       "治愈      56\n",
       "末日      52\n",
       "机甲      51\n",
       "美食      47\n",
       "热血      43\n",
       "怪物      41\n",
       "校园      35\n",
       "宅斗      28\n",
       "权谋      27\n",
       "修仙      26\n",
       "惊悚      22\n",
       "性转      17\n",
       "电竞      14\n",
       "丧尸      13\n",
       "浪漫       9\n",
       "恋爱       9\n",
       "萌系       6\n",
       "玄幻       6\n",
       "青春       6\n",
       "虐心       5\n",
       "神豪       5\n",
       "冒险       5\n",
       "宫斗       4\n",
       "日常       3\n",
       "高甜       1\n",
       "科幻       1\n",
       "励志       1\n",
       "历史       1\n",
       "Name: types, dtype: int64"
      ]
     },
     "metadata": {},
     "execution_count": 7
    }
   ],
   "metadata": {}
  },
  {
   "cell_type": "code",
   "execution_count": 8,
   "source": [
    "data['types'].value_counts().index[:15]"
   ],
   "outputs": [
    {
     "output_type": "execute_result",
     "data": {
      "text/plain": [
       "Index(['古风', '战斗', '总裁', '职场', '脑洞', '穿越', '大女主', '推理', '灵异', '后宫'], dtype='object')"
      ]
     },
     "metadata": {},
     "execution_count": 8
    }
   ],
   "metadata": {}
  },
  {
   "cell_type": "code",
   "execution_count": 9,
   "source": [
    "data['types'].value_counts().values[:15]"
   ],
   "outputs": [
    {
     "output_type": "execute_result",
     "data": {
      "text/plain": [
       "array([975, 631, 403, 393, 327, 320, 303, 280, 195, 171, 167, 166, 143,\n",
       "       109, 109], dtype=int64)"
      ]
     },
     "metadata": {},
     "execution_count": 9
    }
   ],
   "metadata": {}
  },
  {
   "cell_type": "code",
   "execution_count": 13,
   "source": [
    "from pyecharts.charts import Pie"
   ],
   "outputs": [],
   "metadata": {}
  },
  {
   "cell_type": "code",
   "execution_count": 18,
   "source": [
    "types = ['古风', '战斗', '总裁', '职场', '脑洞', '穿越', '大女主', '推理', '灵异', '后宫']\r\n",
    "nums = [975, 631, 403, 393, 327, 320, 303, 280, 195, 171, 167, 166, 143,109, 109]"
   ],
   "outputs": [],
   "metadata": {}
  },
  {
   "cell_type": "code",
   "execution_count": null,
   "source": [
    "\r\n",
    "from pyecharts import options as opts\r\n",
    "from pyecharts.charts import Page, Pie\r\n",
    " \r\n",
    " \r\n",
    "pie=(\r\n",
    "    Pie()\r\n",
    "    .add(\r\n",
    "            \"\",\r\n",
    "            [list(z) for z in zip(types, nums)],\r\n",
    "            radius=[\"40%\", \"75%\"],\r\n",
    "        )\r\n",
    "        .set_global_opts(\r\n",
    "            title_opts=opts.TitleOpts(title=\"Pie-Radius\"),\r\n",
    "            legend_opts=opts.LegendOpts(\r\n",
    "                orient=\"vertical\", pos_top=\"15%\", pos_left=\"2%\"\r\n",
    "            ),\r\n",
    "        )\r\n",
    "        .set_series_opts(label_opts=opts.LabelOpts(formatter=\"{b}: {c}\"))\r\n",
    "    )\r\n",
    "\r\n",
    "pie.render('pie.html')"
   ],
   "outputs": [],
   "metadata": {}
  }
 ],
 "metadata": {
  "orig_nbformat": 4,
  "language_info": {
   "name": "python",
   "version": "3.6.5",
   "mimetype": "text/x-python",
   "codemirror_mode": {
    "name": "ipython",
    "version": 3
   },
   "pygments_lexer": "ipython3",
   "nbconvert_exporter": "python",
   "file_extension": ".py"
  },
  "kernelspec": {
   "name": "python3",
   "display_name": "Python 3.6.5 64-bit"
  },
  "interpreter": {
   "hash": "77c639dc94a67a2fd7adefa9fb5501b202ad38d433eb4895bf7231d9dfb25ee2"
  }
 },
 "nbformat": 4,
 "nbformat_minor": 2
}